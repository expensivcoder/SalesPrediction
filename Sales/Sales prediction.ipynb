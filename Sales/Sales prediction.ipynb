{
 "cells": [
  {
   "cell_type": "code",
   "execution_count": 18,
   "id": "8a913152",
   "metadata": {},
   "outputs": [],
   "source": [
    "import pandas as pd\n",
    "import seaborn as sns\n",
    "import matplotlib.pyplot as plt\n",
    "import numpy as np"
   ]
  },
  {
   "cell_type": "code",
   "execution_count": 20,
   "id": "a9c87922",
   "metadata": {},
   "outputs": [
    {
     "data": {
      "text/html": [
       "<div>\n",
       "<style scoped>\n",
       "    .dataframe tbody tr th:only-of-type {\n",
       "        vertical-align: middle;\n",
       "    }\n",
       "\n",
       "    .dataframe tbody tr th {\n",
       "        vertical-align: top;\n",
       "    }\n",
       "\n",
       "    .dataframe thead th {\n",
       "        text-align: right;\n",
       "    }\n",
       "</style>\n",
       "<table border=\"1\" class=\"dataframe\">\n",
       "  <thead>\n",
       "    <tr style=\"text-align: right;\">\n",
       "      <th></th>\n",
       "      <th>TV</th>\n",
       "      <th>Radio</th>\n",
       "      <th>Newspaper</th>\n",
       "      <th>Sales</th>\n",
       "    </tr>\n",
       "  </thead>\n",
       "  <tbody>\n",
       "    <tr>\n",
       "      <th>0</th>\n",
       "      <td>230.1</td>\n",
       "      <td>37.8</td>\n",
       "      <td>69.2</td>\n",
       "      <td>22.1</td>\n",
       "    </tr>\n",
       "    <tr>\n",
       "      <th>1</th>\n",
       "      <td>44.5</td>\n",
       "      <td>39.3</td>\n",
       "      <td>45.1</td>\n",
       "      <td>10.4</td>\n",
       "    </tr>\n",
       "    <tr>\n",
       "      <th>2</th>\n",
       "      <td>17.2</td>\n",
       "      <td>45.9</td>\n",
       "      <td>69.3</td>\n",
       "      <td>12.0</td>\n",
       "    </tr>\n",
       "    <tr>\n",
       "      <th>3</th>\n",
       "      <td>151.5</td>\n",
       "      <td>41.3</td>\n",
       "      <td>58.5</td>\n",
       "      <td>16.5</td>\n",
       "    </tr>\n",
       "    <tr>\n",
       "      <th>4</th>\n",
       "      <td>180.8</td>\n",
       "      <td>10.8</td>\n",
       "      <td>58.4</td>\n",
       "      <td>17.9</td>\n",
       "    </tr>\n",
       "    <tr>\n",
       "      <th>...</th>\n",
       "      <td>...</td>\n",
       "      <td>...</td>\n",
       "      <td>...</td>\n",
       "      <td>...</td>\n",
       "    </tr>\n",
       "    <tr>\n",
       "      <th>195</th>\n",
       "      <td>38.2</td>\n",
       "      <td>3.7</td>\n",
       "      <td>13.8</td>\n",
       "      <td>7.6</td>\n",
       "    </tr>\n",
       "    <tr>\n",
       "      <th>196</th>\n",
       "      <td>94.2</td>\n",
       "      <td>4.9</td>\n",
       "      <td>8.1</td>\n",
       "      <td>14.0</td>\n",
       "    </tr>\n",
       "    <tr>\n",
       "      <th>197</th>\n",
       "      <td>177.0</td>\n",
       "      <td>9.3</td>\n",
       "      <td>6.4</td>\n",
       "      <td>14.8</td>\n",
       "    </tr>\n",
       "    <tr>\n",
       "      <th>198</th>\n",
       "      <td>283.6</td>\n",
       "      <td>42.0</td>\n",
       "      <td>66.2</td>\n",
       "      <td>25.5</td>\n",
       "    </tr>\n",
       "    <tr>\n",
       "      <th>199</th>\n",
       "      <td>232.1</td>\n",
       "      <td>8.6</td>\n",
       "      <td>8.7</td>\n",
       "      <td>18.4</td>\n",
       "    </tr>\n",
       "  </tbody>\n",
       "</table>\n",
       "<p>200 rows × 4 columns</p>\n",
       "</div>"
      ],
      "text/plain": [
       "        TV  Radio  Newspaper  Sales\n",
       "0    230.1   37.8       69.2   22.1\n",
       "1     44.5   39.3       45.1   10.4\n",
       "2     17.2   45.9       69.3   12.0\n",
       "3    151.5   41.3       58.5   16.5\n",
       "4    180.8   10.8       58.4   17.9\n",
       "..     ...    ...        ...    ...\n",
       "195   38.2    3.7       13.8    7.6\n",
       "196   94.2    4.9        8.1   14.0\n",
       "197  177.0    9.3        6.4   14.8\n",
       "198  283.6   42.0       66.2   25.5\n",
       "199  232.1    8.6        8.7   18.4\n",
       "\n",
       "[200 rows x 4 columns]"
      ]
     },
     "execution_count": 20,
     "metadata": {},
     "output_type": "execute_result"
    }
   ],
   "source": [
    "dataset = pd.read_csv(r\"Z:\\l&b ML\\advertising.csv\")\n",
    "dataset"
   ]
  },
  {
   "cell_type": "code",
   "execution_count": 21,
   "id": "303b74c0",
   "metadata": {},
   "outputs": [
    {
     "data": {
      "text/plain": [
       "TV           False\n",
       "Radio        False\n",
       "Newspaper    False\n",
       "Sales        False\n",
       "dtype: bool"
      ]
     },
     "execution_count": 21,
     "metadata": {},
     "output_type": "execute_result"
    }
   ],
   "source": [
    "dataset.isnull().any()"
   ]
  },
  {
   "cell_type": "code",
   "execution_count": 22,
   "id": "be07be06",
   "metadata": {},
   "outputs": [
    {
     "data": {
      "text/plain": [
       "False"
      ]
     },
     "execution_count": 22,
     "metadata": {},
     "output_type": "execute_result"
    }
   ],
   "source": [
    "dataset.duplicated().any()"
   ]
  },
  {
   "cell_type": "code",
   "execution_count": 23,
   "id": "b3f85e70",
   "metadata": {},
   "outputs": [
    {
     "name": "stderr",
     "output_type": "stream",
     "text": [
      "C:\\Users\\anasi\\anaconda3\\lib\\site-packages\\seaborn\\_decorators.py:36: FutureWarning: Pass the following variable as a keyword arg: x. From version 0.12, the only valid positional argument will be `data`, and passing other arguments without an explicit keyword will result in an error or misinterpretation.\n",
      "  warnings.warn(\n",
      "C:\\Users\\anasi\\anaconda3\\lib\\site-packages\\seaborn\\_decorators.py:36: FutureWarning: Pass the following variable as a keyword arg: x. From version 0.12, the only valid positional argument will be `data`, and passing other arguments without an explicit keyword will result in an error or misinterpretation.\n",
      "  warnings.warn(\n",
      "C:\\Users\\anasi\\anaconda3\\lib\\site-packages\\seaborn\\_decorators.py:36: FutureWarning: Pass the following variable as a keyword arg: x. From version 0.12, the only valid positional argument will be `data`, and passing other arguments without an explicit keyword will result in an error or misinterpretation.\n",
      "  warnings.warn(\n"
     ]
    },
    {
     "data": {
      "image/png": "[encoded data removed]",
      "text/plain": [
       "<Figure size 360x360 with 3 Axes>"
      ]
     },
     "metadata": {
      "needs_background": "light"
     },
     "output_type": "display_data"
    }
   ],
   "source": [
    "fig, axs = plt.subplots(3, figsize = (5,5))\n",
    "plt1 = sns.boxplot(dataset['TV'], ax = axs[0])\n",
    "plt2 = sns.boxplot(dataset['Newspaper'], ax = axs[1])\n",
    "plt3 = sns.boxplot(dataset['Radio'], ax = axs[2])\n",
    "\n",
    "plt.tight_layout()"
   ]
  },
  {
   "cell_type": "code",
   "execution_count": 24,
   "id": "12cdc023",
   "metadata": {},
   "outputs": [
    {
     "name": "stderr",
     "output_type": "stream",
     "text": [
      "C:\\Users\\anasi\\anaconda3\\lib\\site-packages\\seaborn\\distributions.py:2619: FutureWarning: `distplot` is a deprecated function and will be removed in a future version. Please adapt your code to use either `displot` (a figure-level function with similar flexibility) or `histplot` (an axes-level function for histograms).\n",
      "  warnings.warn(msg, FutureWarning)\n"
     ]
    },
    {
     "data": {
      "text/plain": [
       "<AxesSubplot:xlabel='Sales', ylabel='Density'>"
      ]
     },
     "execution_count": 24,
     "metadata": {},
     "output_type": "execute_result"
    },
    {
     "data": {
      "image/png": "[encoded data removed]",
      "text/plain": [
       "<Figure size 432x288 with 1 Axes>"
      ]
     },
     "metadata": {
      "needs_background": "light"
     },
     "output_type": "display_data"
    }
   ],
   "source": [
    "sns.distplot(dataset['Sales'])"
   ]
  },
  {
   "cell_type": "code",
   "execution_count": 8,
   "id": "08139a58",
   "metadata": {},
   "outputs": [
    {
     "data": {
      "image/png": "[encoded data removed]",
      "text/plain": [
       "<Figure size 864x288 with 3 Axes>"
      ]
     },
     "metadata": {
      "needs_background": "light"
     },
     "output_type": "display_data"
    }
   ],
   "source": [
    "#2. How sales are related with other variables\n",
    "\n",
    "sns.pairplot(dataset, x_vars=['TV', 'Radio', 'Newspaper'], y_vars = 'Sales', height= 4, aspect= 1, kind= 'scatter')\n",
    "plt.show()"
   ]
  },
  {
   "cell_type": "code",
   "execution_count": 9,
   "id": "1e1f1808",
   "metadata": {
    "scrolled": false
   },
   "outputs": [
    {
     "data": {
      "image/png": "[encoded data removed]",
      "text/plain": [
       "<Figure size 432x288 with 2 Axes>"
      ]
     },
     "metadata": {
      "needs_background": "light"
     },
     "output_type": "display_data"
    }
   ],
   "source": [
    "#heatmap for better visualization\n",
    "\n",
    "sns.heatmap(dataset.corr(), annot = True)\n",
    "plt.show()\n"
   ]
  },
  {
   "cell_type": "markdown",
   "id": "d1bf208f",
   "metadata": {},
   "source": [
    "**Model Building Linear Regression\n",
    "1. Simple linear\n",
    "2. Multiple Linear"
   ]
  },
  {
   "cell_type": "markdown",
   "id": "ce2b347f",
   "metadata": {},
   "source": [
    "SIMPLE LINEAR"
   ]
  },
  {
   "cell_type": "code",
   "execution_count": 25,
   "id": "697d4b78",
   "metadata": {},
   "outputs": [],
   "source": [
    "from sklearn.model_selection import train_test_split\n",
    "from sklearn.linear_model import LinearRegression\n",
    "from sklearn import metrics"
   ]
  },
  {
   "cell_type": "code",
   "execution_count": 29,
   "id": "34b2d910",
   "metadata": {},
   "outputs": [],
   "source": [
    "#prediction using multiple linear regression\n",
    "\n",
    "#Setting the parameters\n",
    "\n",
    "#Setting the values for x & y\n",
    "\n",
    "x = dataset[['TV']]\n",
    "y = dataset['Sales']"
   ]
  },
  {
   "cell_type": "code",
   "execution_count": 30,
   "id": "ff43e903",
   "metadata": {},
   "outputs": [],
   "source": [
    "x_train, x_test, y_train, y_test = train_test_split(x, y, test_size=0.3, random_state=100)"
   ]
  },
  {
   "cell_type": "code",
   "execution_count": 31,
   "id": "ad599e3e",
   "metadata": {},
   "outputs": [
    {
     "data": {
      "text/plain": [
       "LinearRegression()"
      ]
     },
     "execution_count": 31,
     "metadata": {},
     "output_type": "execute_result"
    }
   ],
   "source": [
    "slr = LinearRegression()\n",
    "slr.fit(x_train, y_train)"
   ]
  },
  {
   "cell_type": "code",
   "execution_count": 32,
   "id": "8b4b2649",
   "metadata": {},
   "outputs": [
    {
     "name": "stdout",
     "output_type": "stream",
     "text": [
      "Intercept:  6.948683200001357\n",
      "Coefficient:  [0.05454575]\n"
     ]
    }
   ],
   "source": [
    "#Printing the model Coefficients\n",
    "print('Intercept: ', slr.intercept_)\n",
    "print('Coefficient: ', slr.coef_)"
   ]
  },
  {
   "cell_type": "code",
   "execution_count": 33,
   "id": "818b8d55",
   "metadata": {},
   "outputs": [
    {
     "name": "stdout",
     "output_type": "stream",
     "text": [
      "Regression Equation Sales = 6.948 + 0.054 * TV\n"
     ]
    }
   ],
   "source": [
    "print('Regression Equation Sales = 6.948 + 0.054 * TV')"
   ]
  },
  {
   "cell_type": "code",
   "execution_count": 34,
   "id": "c7ec5467",
   "metadata": {},
   "outputs": [],
   "source": [
    "y_train_predict = slr.predict(x_train)"
   ]
  },
  {
   "cell_type": "code",
   "execution_count": 35,
   "id": "1e47fb99",
   "metadata": {},
   "outputs": [
    {
     "data": {
      "image/png": "[encoded data removed]",
      "text/plain": [
       "<Figure size 432x288 with 1 Axes>"
      ]
     },
     "metadata": {
      "needs_background": "light"
     },
     "output_type": "display_data"
    }
   ],
   "source": [
    "#Line of Best Fit\n",
    "plt.scatter(x_train['TV'], y_train)\n",
    "plt.plot(x_train['TV'].to_list(), y_train_predict, 'r')\n",
    "plt.show()"
   ]
  },
  {
   "cell_type": "code",
   "execution_count": 37,
   "id": "dae458b5",
   "metadata": {},
   "outputs": [],
   "source": [
    "#Prediciton\n",
    "y_pred_slr = slr.predict(x_test)\n",
    "x_pred_slr = slr.predict(x_train)"
   ]
  },
  {
   "cell_type": "code",
   "execution_count": 38,
   "id": "b182bcd4",
   "metadata": {},
   "outputs": [
    {
     "name": "stdout",
     "output_type": "stream",
     "text": [
      "[ 7.37414007 19.94148154 14.32326899 18.82329361 20.13239168 18.2287449\n",
      " 14.54145201 17.72692398 18.75238413 18.77420243 13.34144544 19.46693349\n",
      " 10.01415451 17.1923756  11.70507285 12.08689312 15.11418241 16.23237035\n",
      " 15.8669138  13.1068987  18.65965635 14.00690363 17.60692332 16.60328147\n",
      " 17.03419291 18.96511257 18.93783969 11.05597839 17.03419291 13.66326538\n",
      " 10.6796127  10.71234015 13.5487193  17.22510305  9.67597085 13.52144643\n",
      " 12.25053038 16.13418799 19.07965865 17.48692266 18.69783838 16.53237199\n",
      " 15.92145955 18.86693021 13.5050827  11.84143724  7.87050642 20.51966653\n",
      " 10.79961336  9.03233096 17.99419817 16.29237067 11.04506924 14.09963141\n",
      " 18.44147334  9.3759692   7.88687015  8.34505447 17.72692398 11.62325422]\n"
     ]
    }
   ],
   "source": [
    "print(y_pred_slr)"
   ]
  },
  {
   "cell_type": "code",
   "execution_count": 40,
   "id": "84cecf5c",
   "metadata": {},
   "outputs": [
    {
     "data": {
      "text/html": [
       "<div>\n",
       "<style scoped>\n",
       "    .dataframe tbody tr th:only-of-type {\n",
       "        vertical-align: middle;\n",
       "    }\n",
       "\n",
       "    .dataframe tbody tr th {\n",
       "        vertical-align: top;\n",
       "    }\n",
       "\n",
       "    .dataframe thead th {\n",
       "        text-align: right;\n",
       "    }\n",
       "</style>\n",
       "<table border=\"1\" class=\"dataframe\">\n",
       "  <thead>\n",
       "    <tr style=\"text-align: right;\">\n",
       "      <th></th>\n",
       "      <th>Actual Value</th>\n",
       "      <th>Predicted value</th>\n",
       "    </tr>\n",
       "  </thead>\n",
       "  <tbody>\n",
       "    <tr>\n",
       "      <th>126</th>\n",
       "      <td>6.6</td>\n",
       "      <td>7.374140</td>\n",
       "    </tr>\n",
       "    <tr>\n",
       "      <th>104</th>\n",
       "      <td>20.7</td>\n",
       "      <td>19.941482</td>\n",
       "    </tr>\n",
       "    <tr>\n",
       "      <th>99</th>\n",
       "      <td>17.2</td>\n",
       "      <td>14.323269</td>\n",
       "    </tr>\n",
       "    <tr>\n",
       "      <th>92</th>\n",
       "      <td>19.4</td>\n",
       "      <td>18.823294</td>\n",
       "    </tr>\n",
       "    <tr>\n",
       "      <th>111</th>\n",
       "      <td>21.8</td>\n",
       "      <td>20.132392</td>\n",
       "    </tr>\n",
       "    <tr>\n",
       "      <th>167</th>\n",
       "      <td>17.2</td>\n",
       "      <td>18.228745</td>\n",
       "    </tr>\n",
       "    <tr>\n",
       "      <th>116</th>\n",
       "      <td>12.2</td>\n",
       "      <td>14.541452</td>\n",
       "    </tr>\n",
       "    <tr>\n",
       "      <th>96</th>\n",
       "      <td>16.7</td>\n",
       "      <td>17.726924</td>\n",
       "    </tr>\n",
       "    <tr>\n",
       "      <th>52</th>\n",
       "      <td>22.6</td>\n",
       "      <td>18.752384</td>\n",
       "    </tr>\n",
       "    <tr>\n",
       "      <th>69</th>\n",
       "      <td>22.3</td>\n",
       "      <td>18.774202</td>\n",
       "    </tr>\n",
       "    <tr>\n",
       "      <th>164</th>\n",
       "      <td>11.9</td>\n",
       "      <td>13.341445</td>\n",
       "    </tr>\n",
       "    <tr>\n",
       "      <th>124</th>\n",
       "      <td>19.7</td>\n",
       "      <td>19.466933</td>\n",
       "    </tr>\n",
       "    <tr>\n",
       "      <th>182</th>\n",
       "      <td>8.7</td>\n",
       "      <td>10.014155</td>\n",
       "    </tr>\n",
       "    <tr>\n",
       "      <th>154</th>\n",
       "      <td>20.6</td>\n",
       "      <td>17.192376</td>\n",
       "    </tr>\n",
       "    <tr>\n",
       "      <th>125</th>\n",
       "      <td>10.6</td>\n",
       "      <td>11.705073</td>\n",
       "    </tr>\n",
       "    <tr>\n",
       "      <th>196</th>\n",
       "      <td>14.0</td>\n",
       "      <td>12.086893</td>\n",
       "    </tr>\n",
       "    <tr>\n",
       "      <th>194</th>\n",
       "      <td>17.3</td>\n",
       "      <td>15.114182</td>\n",
       "    </tr>\n",
       "    <tr>\n",
       "      <th>177</th>\n",
       "      <td>16.7</td>\n",
       "      <td>16.232370</td>\n",
       "    </tr>\n",
       "    <tr>\n",
       "      <th>163</th>\n",
       "      <td>18.0</td>\n",
       "      <td>15.866914</td>\n",
       "    </tr>\n",
       "    <tr>\n",
       "      <th>31</th>\n",
       "      <td>11.9</td>\n",
       "      <td>13.106899</td>\n",
       "    </tr>\n",
       "    <tr>\n",
       "      <th>11</th>\n",
       "      <td>17.4</td>\n",
       "      <td>18.659656</td>\n",
       "    </tr>\n",
       "    <tr>\n",
       "      <th>73</th>\n",
       "      <td>11.0</td>\n",
       "      <td>14.006904</td>\n",
       "    </tr>\n",
       "    <tr>\n",
       "      <th>15</th>\n",
       "      <td>22.4</td>\n",
       "      <td>17.606923</td>\n",
       "    </tr>\n",
       "    <tr>\n",
       "      <th>41</th>\n",
       "      <td>17.1</td>\n",
       "      <td>16.603281</td>\n",
       "    </tr>\n",
       "    <tr>\n",
       "      <th>97</th>\n",
       "      <td>20.5</td>\n",
       "      <td>17.034193</td>\n",
       "    </tr>\n",
       "    <tr>\n",
       "      <th>128</th>\n",
       "      <td>24.7</td>\n",
       "      <td>18.965113</td>\n",
       "    </tr>\n",
       "    <tr>\n",
       "      <th>133</th>\n",
       "      <td>19.6</td>\n",
       "      <td>18.937840</td>\n",
       "    </tr>\n",
       "    <tr>\n",
       "      <th>82</th>\n",
       "      <td>11.3</td>\n",
       "      <td>11.055978</td>\n",
       "    </tr>\n",
       "    <tr>\n",
       "      <th>139</th>\n",
       "      <td>20.7</td>\n",
       "      <td>17.034193</td>\n",
       "    </tr>\n",
       "    <tr>\n",
       "      <th>123</th>\n",
       "      <td>15.2</td>\n",
       "      <td>13.663265</td>\n",
       "    </tr>\n",
       "    <tr>\n",
       "      <th>83</th>\n",
       "      <td>13.6</td>\n",
       "      <td>10.679613</td>\n",
       "    </tr>\n",
       "    <tr>\n",
       "      <th>65</th>\n",
       "      <td>11.3</td>\n",
       "      <td>10.712340</td>\n",
       "    </tr>\n",
       "    <tr>\n",
       "      <th>151</th>\n",
       "      <td>11.6</td>\n",
       "      <td>13.548719</td>\n",
       "    </tr>\n",
       "    <tr>\n",
       "      <th>162</th>\n",
       "      <td>19.9</td>\n",
       "      <td>17.225103</td>\n",
       "    </tr>\n",
       "    <tr>\n",
       "      <th>170</th>\n",
       "      <td>8.4</td>\n",
       "      <td>9.675971</td>\n",
       "    </tr>\n",
       "    <tr>\n",
       "      <th>77</th>\n",
       "      <td>14.2</td>\n",
       "      <td>13.521446</td>\n",
       "    </tr>\n",
       "    <tr>\n",
       "      <th>32</th>\n",
       "      <td>13.2</td>\n",
       "      <td>12.250530</td>\n",
       "    </tr>\n",
       "    <tr>\n",
       "      <th>173</th>\n",
       "      <td>16.7</td>\n",
       "      <td>16.134188</td>\n",
       "    </tr>\n",
       "    <tr>\n",
       "      <th>174</th>\n",
       "      <td>16.5</td>\n",
       "      <td>19.079659</td>\n",
       "    </tr>\n",
       "    <tr>\n",
       "      <th>85</th>\n",
       "      <td>20.2</td>\n",
       "      <td>17.486923</td>\n",
       "    </tr>\n",
       "    <tr>\n",
       "      <th>168</th>\n",
       "      <td>17.1</td>\n",
       "      <td>18.697838</td>\n",
       "    </tr>\n",
       "    <tr>\n",
       "      <th>112</th>\n",
       "      <td>17.1</td>\n",
       "      <td>16.532372</td>\n",
       "    </tr>\n",
       "    <tr>\n",
       "      <th>171</th>\n",
       "      <td>17.5</td>\n",
       "      <td>15.921460</td>\n",
       "    </tr>\n",
       "    <tr>\n",
       "      <th>181</th>\n",
       "      <td>17.2</td>\n",
       "      <td>18.866930</td>\n",
       "    </tr>\n",
       "    <tr>\n",
       "      <th>7</th>\n",
       "      <td>13.2</td>\n",
       "      <td>13.505083</td>\n",
       "    </tr>\n",
       "    <tr>\n",
       "      <th>46</th>\n",
       "      <td>10.6</td>\n",
       "      <td>11.841437</td>\n",
       "    </tr>\n",
       "    <tr>\n",
       "      <th>75</th>\n",
       "      <td>8.7</td>\n",
       "      <td>7.870506</td>\n",
       "    </tr>\n",
       "    <tr>\n",
       "      <th>28</th>\n",
       "      <td>18.9</td>\n",
       "      <td>20.519667</td>\n",
       "    </tr>\n",
       "    <tr>\n",
       "      <th>29</th>\n",
       "      <td>10.5</td>\n",
       "      <td>10.799613</td>\n",
       "    </tr>\n",
       "    <tr>\n",
       "      <th>195</th>\n",
       "      <td>7.6</td>\n",
       "      <td>9.032331</td>\n",
       "    </tr>\n",
       "    <tr>\n",
       "      <th>40</th>\n",
       "      <td>16.6</td>\n",
       "      <td>17.994198</td>\n",
       "    </tr>\n",
       "    <tr>\n",
       "      <th>153</th>\n",
       "      <td>16.0</td>\n",
       "      <td>16.292371</td>\n",
       "    </tr>\n",
       "    <tr>\n",
       "      <th>115</th>\n",
       "      <td>12.6</td>\n",
       "      <td>11.045069</td>\n",
       "    </tr>\n",
       "    <tr>\n",
       "      <th>64</th>\n",
       "      <td>16.0</td>\n",
       "      <td>14.099631</td>\n",
       "    </tr>\n",
       "    <tr>\n",
       "      <th>59</th>\n",
       "      <td>18.4</td>\n",
       "      <td>18.441473</td>\n",
       "    </tr>\n",
       "    <tr>\n",
       "      <th>1</th>\n",
       "      <td>10.4</td>\n",
       "      <td>9.375969</td>\n",
       "    </tr>\n",
       "    <tr>\n",
       "      <th>192</th>\n",
       "      <td>5.9</td>\n",
       "      <td>7.886870</td>\n",
       "    </tr>\n",
       "    <tr>\n",
       "      <th>136</th>\n",
       "      <td>9.5</td>\n",
       "      <td>8.345054</td>\n",
       "    </tr>\n",
       "    <tr>\n",
       "      <th>152</th>\n",
       "      <td>16.6</td>\n",
       "      <td>17.726924</td>\n",
       "    </tr>\n",
       "    <tr>\n",
       "      <th>161</th>\n",
       "      <td>13.3</td>\n",
       "      <td>11.623254</td>\n",
       "    </tr>\n",
       "  </tbody>\n",
       "</table>\n",
       "</div>"
      ],
      "text/plain": [
       "     Actual Value  Predicted value\n",
       "126           6.6         7.374140\n",
       "104          20.7        19.941482\n",
       "99           17.2        14.323269\n",
       "92           19.4        18.823294\n",
       "111          21.8        20.132392\n",
       "167          17.2        18.228745\n",
       "116          12.2        14.541452\n",
       "96           16.7        17.726924\n",
       "52           22.6        18.752384\n",
       "69           22.3        18.774202\n",
       "164          11.9        13.341445\n",
       "124          19.7        19.466933\n",
       "182           8.7        10.014155\n",
       "154          20.6        17.192376\n",
       "125          10.6        11.705073\n",
       "196          14.0        12.086893\n",
       "194          17.3        15.114182\n",
       "177          16.7        16.232370\n",
       "163          18.0        15.866914\n",
       "31           11.9        13.106899\n",
       "11           17.4        18.659656\n",
       "73           11.0        14.006904\n",
       "15           22.4        17.606923\n",
       "41           17.1        16.603281\n",
       "97           20.5        17.034193\n",
       "128          24.7        18.965113\n",
       "133          19.6        18.937840\n",
       "82           11.3        11.055978\n",
       "139          20.7        17.034193\n",
       "123          15.2        13.663265\n",
       "83           13.6        10.679613\n",
       "65           11.3        10.712340\n",
       "151          11.6        13.548719\n",
       "162          19.9        17.225103\n",
       "170           8.4         9.675971\n",
       "77           14.2        13.521446\n",
       "32           13.2        12.250530\n",
       "173          16.7        16.134188\n",
       "174          16.5        19.079659\n",
       "85           20.2        17.486923\n",
       "168          17.1        18.697838\n",
       "112          17.1        16.532372\n",
       "171          17.5        15.921460\n",
       "181          17.2        18.866930\n",
       "7            13.2        13.505083\n",
       "46           10.6        11.841437\n",
       "75            8.7         7.870506\n",
       "28           18.9        20.519667\n",
       "29           10.5        10.799613\n",
       "195           7.6         9.032331\n",
       "40           16.6        17.994198\n",
       "153          16.0        16.292371\n",
       "115          12.6        11.045069\n",
       "64           16.0        14.099631\n",
       "59           18.4        18.441473\n",
       "1            10.4         9.375969\n",
       "192           5.9         7.886870\n",
       "136           9.5         8.345054\n",
       "152          16.6        17.726924\n",
       "161          13.3        11.623254"
      ]
     },
     "execution_count": 40,
     "metadata": {},
     "output_type": "execute_result"
    }
   ],
   "source": [
    "slr_diff = pd.DataFrame({'Actual Value': y_test, 'Predicted value': y_pred_slr})\n",
    "slr_diff"
   ]
  },
  {
   "cell_type": "code",
   "execution_count": 43,
   "id": "90a37faf",
   "metadata": {},
   "outputs": [
    {
     "data": {
      "text/plain": [
       "array([10.00324536])"
      ]
     },
     "execution_count": 43,
     "metadata": {},
     "output_type": "execute_result"
    }
   ],
   "source": [
    "#Predict for any value\n",
    "slr.predict([[56]])"
   ]
  },
  {
   "cell_type": "markdown",
   "id": "ea4e7d4c",
   "metadata": {},
   "source": [
    "Conclusion: the model predicted the sales of 10.003 in that market"
   ]
  },
  {
   "cell_type": "code",
   "execution_count": 44,
   "id": "9cd1cdbe",
   "metadata": {},
   "outputs": [
    {
     "name": "stdout",
     "output_type": "stream",
     "text": [
      "R squared value of the model: 81.10\n"
     ]
    }
   ],
   "source": [
    "#prit R-squared value for the model\n",
    "from sklearn.metrics import accuracy_score\n",
    "print('R squared value of the model: {:.2f}' .format(slr.score(x,y)*100))"
   ]
  },
  {
   "cell_type": "code",
   "execution_count": 46,
   "id": "b4165c87",
   "metadata": {},
   "outputs": [
    {
     "name": "stdout",
     "output_type": "stream",
     "text": [
      "Mean Absolute Error: 1.6480589869746527\n",
      "Mean Square Error: 4.077556371826949\n",
      "Mean Mean Square Error: 2.019296008966231\n"
     ]
    }
   ],
   "source": [
    "#0 means themodel is perfect.Therefore the value should be as close to 0 as possible\n",
    "meanAbErr = metrics.mean_absolute_error(y_test, y_pred_slr)\n",
    "meanSqErr = metrics.mean_squared_error(y_test, y_pred_slr)\n",
    "rootMeanSqErr = np.sqrt(metrics.mean_squared_error(y_test, y_pred_slr))\n",
    "\n",
    "print('Mean Absolute Error:', meanAbErr)\n",
    "print('Mean Square Error:', meanSqErr)\n",
    "print('Mean Mean Square Error:', rootMeanSqErr)\n"
   ]
  },
  {
   "cell_type": "markdown",
   "id": "1a42d411",
   "metadata": {},
   "source": [
    "### MULTIPLE REGRESSION"
   ]
  },
  {
   "cell_type": "markdown",
   "id": "172182c3",
   "metadata": {},
   "source": [
    "Setting the parameters and the value for x & y"
   ]
  },
  {
   "cell_type": "code",
   "execution_count": 55,
   "id": "21f4122e",
   "metadata": {},
   "outputs": [],
   "source": [
    "x = dataset[['TV', 'Radio', 'Newspaper']]\n",
    "y = dataset['Sales']"
   ]
  },
  {
   "cell_type": "code",
   "execution_count": 56,
   "id": "72b395c5",
   "metadata": {},
   "outputs": [],
   "source": [
    "x_train, x_test, y_train, y_test = train_test_split(x, y, test_size=0.3, random_state=100)"
   ]
  },
  {
   "cell_type": "code",
   "execution_count": 57,
   "id": "4c96713c",
   "metadata": {},
   "outputs": [
    {
     "data": {
      "text/plain": [
       "LinearRegression()"
      ]
     },
     "execution_count": 57,
     "metadata": {},
     "output_type": "execute_result"
    }
   ],
   "source": [
    "mlr = LinearRegression()\n",
    "mlr.fit(x_train, y_train)"
   ]
  },
  {
   "cell_type": "code",
   "execution_count": 58,
   "id": "ad232d2f",
   "metadata": {},
   "outputs": [
    {
     "name": "stdout",
     "output_type": "stream",
     "text": [
      "4.334595861728431\n"
     ]
    },
    {
     "data": {
      "text/plain": [
       "[('TV', 0.053829108667250075),\n",
       " ('Radio', 0.11001224388558062),\n",
       " ('Newspaper', 0.0062899501461303525)]"
      ]
     },
     "execution_count": 58,
     "metadata": {},
     "output_type": "execute_result"
    }
   ],
   "source": [
    "#Printing the model coefficients\n",
    "print(mlr.intercept_)\n",
    "\n",
    "# pair the feature names with coefficients\n",
    "list(zip(x, mlr.coef_))"
   ]
  },
  {
   "cell_type": "code",
   "execution_count": 59,
   "id": "1293af15",
   "metadata": {},
   "outputs": [],
   "source": [
    "#Predicting the Test and Train set result\n",
    "y_pred_mlr= mlr.predict(x_test)\n",
    "x_pred_mlr= mlr.predict(x_train)"
   ]
  },
  {
   "cell_type": "code",
   "execution_count": 60,
   "id": "abfde599",
   "metadata": {},
   "outputs": [
    {
     "name": "stdout",
     "output_type": "stream",
     "text": [
      "Prediction for test set:  [ 9.35221067 20.96344625 16.48851064 20.10971005 21.67148354 16.16054424\n",
      " 13.5618056  15.39338129 20.81980757 21.00537077 12.29451311 20.70848608\n",
      "  8.17367308 16.82471534 10.48954832  9.99530649 16.34698901 14.5758119\n",
      " 17.23065133 12.56890735 18.55715915 12.12402775 20.43312609 17.78017811\n",
      " 16.73623408 21.60387629 20.13532087 10.82559967 19.12782848 14.84537816\n",
      " 13.13597397  9.07757918 12.07834143 16.62824427  8.41792841 14.0456697\n",
      "  9.92050209 14.26101605 16.76262961 17.17185467 18.88797595 15.50165469\n",
      " 15.78688377 16.86266686 13.03405813 10.47673934 10.6141644  20.85264977\n",
      " 10.1517568   6.88471443 17.88702583 18.16013938 12.55907083 16.28189561\n",
      " 18.98024679 11.33714913  5.91026916 10.06159509 17.62383031 13.19628335]\n"
     ]
    }
   ],
   "source": [
    "print(\"Prediction for test set: \", y_pred_mlr)"
   ]
  },
  {
   "cell_type": "code",
   "execution_count": 61,
   "id": "788bc76f",
   "metadata": {},
   "outputs": [
    {
     "data": {
      "text/html": [
       "<div>\n",
       "<style scoped>\n",
       "    .dataframe tbody tr th:only-of-type {\n",
       "        vertical-align: middle;\n",
       "    }\n",
       "\n",
       "    .dataframe tbody tr th {\n",
       "        vertical-align: top;\n",
       "    }\n",
       "\n",
       "    .dataframe thead th {\n",
       "        text-align: right;\n",
       "    }\n",
       "</style>\n",
       "<table border=\"1\" class=\"dataframe\">\n",
       "  <thead>\n",
       "    <tr style=\"text-align: right;\">\n",
       "      <th></th>\n",
       "      <th>Actual value</th>\n",
       "      <th>Predicted value</th>\n",
       "    </tr>\n",
       "  </thead>\n",
       "  <tbody>\n",
       "    <tr>\n",
       "      <th>126</th>\n",
       "      <td>6.6</td>\n",
       "      <td>9.352211</td>\n",
       "    </tr>\n",
       "    <tr>\n",
       "      <th>104</th>\n",
       "      <td>20.7</td>\n",
       "      <td>20.963446</td>\n",
       "    </tr>\n",
       "    <tr>\n",
       "      <th>99</th>\n",
       "      <td>17.2</td>\n",
       "      <td>16.488511</td>\n",
       "    </tr>\n",
       "    <tr>\n",
       "      <th>92</th>\n",
       "      <td>19.4</td>\n",
       "      <td>20.109710</td>\n",
       "    </tr>\n",
       "    <tr>\n",
       "      <th>111</th>\n",
       "      <td>21.8</td>\n",
       "      <td>21.671484</td>\n",
       "    </tr>\n",
       "    <tr>\n",
       "      <th>167</th>\n",
       "      <td>17.2</td>\n",
       "      <td>16.160544</td>\n",
       "    </tr>\n",
       "    <tr>\n",
       "      <th>116</th>\n",
       "      <td>12.2</td>\n",
       "      <td>13.561806</td>\n",
       "    </tr>\n",
       "    <tr>\n",
       "      <th>96</th>\n",
       "      <td>16.7</td>\n",
       "      <td>15.393381</td>\n",
       "    </tr>\n",
       "    <tr>\n",
       "      <th>52</th>\n",
       "      <td>22.6</td>\n",
       "      <td>20.819808</td>\n",
       "    </tr>\n",
       "    <tr>\n",
       "      <th>69</th>\n",
       "      <td>22.3</td>\n",
       "      <td>21.005371</td>\n",
       "    </tr>\n",
       "    <tr>\n",
       "      <th>164</th>\n",
       "      <td>11.9</td>\n",
       "      <td>12.294513</td>\n",
       "    </tr>\n",
       "    <tr>\n",
       "      <th>124</th>\n",
       "      <td>19.7</td>\n",
       "      <td>20.708486</td>\n",
       "    </tr>\n",
       "    <tr>\n",
       "      <th>182</th>\n",
       "      <td>8.7</td>\n",
       "      <td>8.173673</td>\n",
       "    </tr>\n",
       "    <tr>\n",
       "      <th>154</th>\n",
       "      <td>20.6</td>\n",
       "      <td>16.824715</td>\n",
       "    </tr>\n",
       "    <tr>\n",
       "      <th>125</th>\n",
       "      <td>10.6</td>\n",
       "      <td>10.489548</td>\n",
       "    </tr>\n",
       "    <tr>\n",
       "      <th>196</th>\n",
       "      <td>14.0</td>\n",
       "      <td>9.995306</td>\n",
       "    </tr>\n",
       "    <tr>\n",
       "      <th>194</th>\n",
       "      <td>17.3</td>\n",
       "      <td>16.346989</td>\n",
       "    </tr>\n",
       "    <tr>\n",
       "      <th>177</th>\n",
       "      <td>16.7</td>\n",
       "      <td>14.575812</td>\n",
       "    </tr>\n",
       "    <tr>\n",
       "      <th>163</th>\n",
       "      <td>18.0</td>\n",
       "      <td>17.230651</td>\n",
       "    </tr>\n",
       "    <tr>\n",
       "      <th>31</th>\n",
       "      <td>11.9</td>\n",
       "      <td>12.568907</td>\n",
       "    </tr>\n",
       "    <tr>\n",
       "      <th>11</th>\n",
       "      <td>17.4</td>\n",
       "      <td>18.557159</td>\n",
       "    </tr>\n",
       "    <tr>\n",
       "      <th>73</th>\n",
       "      <td>11.0</td>\n",
       "      <td>12.124028</td>\n",
       "    </tr>\n",
       "    <tr>\n",
       "      <th>15</th>\n",
       "      <td>22.4</td>\n",
       "      <td>20.433126</td>\n",
       "    </tr>\n",
       "    <tr>\n",
       "      <th>41</th>\n",
       "      <td>17.1</td>\n",
       "      <td>17.780178</td>\n",
       "    </tr>\n",
       "    <tr>\n",
       "      <th>97</th>\n",
       "      <td>20.5</td>\n",
       "      <td>16.736234</td>\n",
       "    </tr>\n",
       "    <tr>\n",
       "      <th>128</th>\n",
       "      <td>24.7</td>\n",
       "      <td>21.603876</td>\n",
       "    </tr>\n",
       "    <tr>\n",
       "      <th>133</th>\n",
       "      <td>19.6</td>\n",
       "      <td>20.135321</td>\n",
       "    </tr>\n",
       "    <tr>\n",
       "      <th>82</th>\n",
       "      <td>11.3</td>\n",
       "      <td>10.825600</td>\n",
       "    </tr>\n",
       "    <tr>\n",
       "      <th>139</th>\n",
       "      <td>20.7</td>\n",
       "      <td>19.127828</td>\n",
       "    </tr>\n",
       "    <tr>\n",
       "      <th>123</th>\n",
       "      <td>15.2</td>\n",
       "      <td>14.845378</td>\n",
       "    </tr>\n",
       "    <tr>\n",
       "      <th>83</th>\n",
       "      <td>13.6</td>\n",
       "      <td>13.135974</td>\n",
       "    </tr>\n",
       "    <tr>\n",
       "      <th>65</th>\n",
       "      <td>11.3</td>\n",
       "      <td>9.077579</td>\n",
       "    </tr>\n",
       "    <tr>\n",
       "      <th>151</th>\n",
       "      <td>11.6</td>\n",
       "      <td>12.078341</td>\n",
       "    </tr>\n",
       "    <tr>\n",
       "      <th>162</th>\n",
       "      <td>19.9</td>\n",
       "      <td>16.628244</td>\n",
       "    </tr>\n",
       "    <tr>\n",
       "      <th>170</th>\n",
       "      <td>8.4</td>\n",
       "      <td>8.417928</td>\n",
       "    </tr>\n",
       "    <tr>\n",
       "      <th>77</th>\n",
       "      <td>14.2</td>\n",
       "      <td>14.045670</td>\n",
       "    </tr>\n",
       "    <tr>\n",
       "      <th>32</th>\n",
       "      <td>13.2</td>\n",
       "      <td>9.920502</td>\n",
       "    </tr>\n",
       "    <tr>\n",
       "      <th>173</th>\n",
       "      <td>16.7</td>\n",
       "      <td>14.261016</td>\n",
       "    </tr>\n",
       "    <tr>\n",
       "      <th>174</th>\n",
       "      <td>16.5</td>\n",
       "      <td>16.762630</td>\n",
       "    </tr>\n",
       "    <tr>\n",
       "      <th>85</th>\n",
       "      <td>20.2</td>\n",
       "      <td>17.171855</td>\n",
       "    </tr>\n",
       "    <tr>\n",
       "      <th>168</th>\n",
       "      <td>17.1</td>\n",
       "      <td>18.887976</td>\n",
       "    </tr>\n",
       "    <tr>\n",
       "      <th>112</th>\n",
       "      <td>17.1</td>\n",
       "      <td>15.501655</td>\n",
       "    </tr>\n",
       "    <tr>\n",
       "      <th>171</th>\n",
       "      <td>17.5</td>\n",
       "      <td>15.786884</td>\n",
       "    </tr>\n",
       "    <tr>\n",
       "      <th>181</th>\n",
       "      <td>17.2</td>\n",
       "      <td>16.862667</td>\n",
       "    </tr>\n",
       "    <tr>\n",
       "      <th>7</th>\n",
       "      <td>13.2</td>\n",
       "      <td>13.034058</td>\n",
       "    </tr>\n",
       "    <tr>\n",
       "      <th>46</th>\n",
       "      <td>10.6</td>\n",
       "      <td>10.476739</td>\n",
       "    </tr>\n",
       "    <tr>\n",
       "      <th>75</th>\n",
       "      <td>8.7</td>\n",
       "      <td>10.614164</td>\n",
       "    </tr>\n",
       "    <tr>\n",
       "      <th>28</th>\n",
       "      <td>18.9</td>\n",
       "      <td>20.852650</td>\n",
       "    </tr>\n",
       "    <tr>\n",
       "      <th>29</th>\n",
       "      <td>10.5</td>\n",
       "      <td>10.151757</td>\n",
       "    </tr>\n",
       "    <tr>\n",
       "      <th>195</th>\n",
       "      <td>7.6</td>\n",
       "      <td>6.884714</td>\n",
       "    </tr>\n",
       "    <tr>\n",
       "      <th>40</th>\n",
       "      <td>16.6</td>\n",
       "      <td>17.887026</td>\n",
       "    </tr>\n",
       "    <tr>\n",
       "      <th>153</th>\n",
       "      <td>16.0</td>\n",
       "      <td>18.160139</td>\n",
       "    </tr>\n",
       "    <tr>\n",
       "      <th>115</th>\n",
       "      <td>12.6</td>\n",
       "      <td>12.559071</td>\n",
       "    </tr>\n",
       "    <tr>\n",
       "      <th>64</th>\n",
       "      <td>16.0</td>\n",
       "      <td>16.281896</td>\n",
       "    </tr>\n",
       "    <tr>\n",
       "      <th>59</th>\n",
       "      <td>18.4</td>\n",
       "      <td>18.980247</td>\n",
       "    </tr>\n",
       "    <tr>\n",
       "      <th>1</th>\n",
       "      <td>10.4</td>\n",
       "      <td>11.337149</td>\n",
       "    </tr>\n",
       "    <tr>\n",
       "      <th>192</th>\n",
       "      <td>5.9</td>\n",
       "      <td>5.910269</td>\n",
       "    </tr>\n",
       "    <tr>\n",
       "      <th>136</th>\n",
       "      <td>9.5</td>\n",
       "      <td>10.061595</td>\n",
       "    </tr>\n",
       "    <tr>\n",
       "      <th>152</th>\n",
       "      <td>16.6</td>\n",
       "      <td>17.623830</td>\n",
       "    </tr>\n",
       "    <tr>\n",
       "      <th>161</th>\n",
       "      <td>13.3</td>\n",
       "      <td>13.196283</td>\n",
       "    </tr>\n",
       "  </tbody>\n",
       "</table>\n",
       "</div>"
      ],
      "text/plain": [
       "     Actual value  Predicted value\n",
       "126           6.6         9.352211\n",
       "104          20.7        20.963446\n",
       "99           17.2        16.488511\n",
       "92           19.4        20.109710\n",
       "111          21.8        21.671484\n",
       "167          17.2        16.160544\n",
       "116          12.2        13.561806\n",
       "96           16.7        15.393381\n",
       "52           22.6        20.819808\n",
       "69           22.3        21.005371\n",
       "164          11.9        12.294513\n",
       "124          19.7        20.708486\n",
       "182           8.7         8.173673\n",
       "154          20.6        16.824715\n",
       "125          10.6        10.489548\n",
       "196          14.0         9.995306\n",
       "194          17.3        16.346989\n",
       "177          16.7        14.575812\n",
       "163          18.0        17.230651\n",
       "31           11.9        12.568907\n",
       "11           17.4        18.557159\n",
       "73           11.0        12.124028\n",
       "15           22.4        20.433126\n",
       "41           17.1        17.780178\n",
       "97           20.5        16.736234\n",
       "128          24.7        21.603876\n",
       "133          19.6        20.135321\n",
       "82           11.3        10.825600\n",
       "139          20.7        19.127828\n",
       "123          15.2        14.845378\n",
       "83           13.6        13.135974\n",
       "65           11.3         9.077579\n",
       "151          11.6        12.078341\n",
       "162          19.9        16.628244\n",
       "170           8.4         8.417928\n",
       "77           14.2        14.045670\n",
       "32           13.2         9.920502\n",
       "173          16.7        14.261016\n",
       "174          16.5        16.762630\n",
       "85           20.2        17.171855\n",
       "168          17.1        18.887976\n",
       "112          17.1        15.501655\n",
       "171          17.5        15.786884\n",
       "181          17.2        16.862667\n",
       "7            13.2        13.034058\n",
       "46           10.6        10.476739\n",
       "75            8.7        10.614164\n",
       "28           18.9        20.852650\n",
       "29           10.5        10.151757\n",
       "195           7.6         6.884714\n",
       "40           16.6        17.887026\n",
       "153          16.0        18.160139\n",
       "115          12.6        12.559071\n",
       "64           16.0        16.281896\n",
       "59           18.4        18.980247\n",
       "1            10.4        11.337149\n",
       "192           5.9         5.910269\n",
       "136           9.5        10.061595\n",
       "152          16.6        17.623830\n",
       "161          13.3        13.196283"
      ]
     },
     "execution_count": 61,
     "metadata": {},
     "output_type": "execute_result"
    }
   ],
   "source": [
    "#Actual value and predicted value\n",
    "mlr_diff = pd.DataFrame({'Actual value': y_test, 'Predicted value': y_pred_mlr})\n",
    "mlr_diff"
   ]
  },
  {
   "cell_type": "code",
   "execution_count": 62,
   "id": "e8c31f52",
   "metadata": {},
   "outputs": [
    {
     "data": {
      "text/plain": [
       "array([13.82112602])"
      ]
     },
     "execution_count": 62,
     "metadata": {},
     "output_type": "execute_result"
    }
   ],
   "source": [
    "#Predict for any value\n",
    "mlr.predict([[56,55,67]])"
   ]
  },
  {
   "cell_type": "code",
   "execution_count": 63,
   "id": "3c8bffac",
   "metadata": {},
   "outputs": [
    {
     "name": "stdout",
     "output_type": "stream",
     "text": [
      "R squared value for the model:  90.11\n"
     ]
    }
   ],
   "source": [
    "#print the R-squared value for the model\n",
    "print('R squared value for the model: {: .2f}'.format(mlr.score(x,y)*100))"
   ]
  },
  {
   "cell_type": "markdown",
   "id": "ad4de280",
   "metadata": {},
   "source": [
    "Conclusion: 90% of the data fit in Multiple Regression Model"
   ]
  },
  {
   "cell_type": "code",
   "execution_count": 64,
   "id": "9dfb5811",
   "metadata": {},
   "outputs": [
    {
     "name": "stdout",
     "output_type": "stream",
     "text": [
      "Mean Absolute Error: 1.2278183566589407\n",
      "Mean Square Error: 2.636076562328064\n",
      "Mean Mean Square Error: 1.6235998775338905\n"
     ]
    }
   ],
   "source": [
    "# 0 means the model is perfect. Therefore the value should be as close as 0\n",
    "meanAbErr = metrics.mean_absolute_error(y_test, y_pred_mlr)\n",
    "meanSqErr = metrics.mean_squared_error(y_test, y_pred_mlr)\n",
    "rootMeanSqErr = np.sqrt(metrics.mean_squared_error(y_test, y_pred_mlr))\n",
    "\n",
    "print('Mean Absolute Error:', meanAbErr)\n",
    "print('Mean Square Error:', meanSqErr)\n",
    "print('Mean Mean Square Error:', rootMeanSqErr)"
   ]
  },
  {
   "cell_type": "code",
   "execution_count": null,
   "id": "c503eb6e",
   "metadata": {},
   "outputs": [],
   "source": []
  }
 ],
 "metadata": {
  "kernelspec": {
   "display_name": "Python 3 (ipykernel)",
   "language": "python",
   "name": "python3"
  },
  "language_info": {
   "codemirror_mode": {
    "name": "ipython",
    "version": 3
   },
   "file_extension": ".py",
   "mimetype": "text/x-python",
   "name": "python",
   "nbconvert_exporter": "python",
   "pygments_lexer": "ipython3",
   "version": "3.9.7"
  }
 },
 "nbformat": 4,
 "nbformat_minor": 5
}
